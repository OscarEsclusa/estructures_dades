{
 "cells": [
  {
   "cell_type": "markdown",
   "id": "1bf51219",
   "metadata": {},
   "source": [
    "#### Exercici 1 ####"
   ]
  },
  {
   "cell_type": "code",
   "execution_count": 12,
   "id": "0216040c",
   "metadata": {},
   "outputs": [
    {
     "name": "stdout",
     "output_type": "stream",
     "text": [
      "Febrer\n",
      "['Gener', 'Febrer', 'Març']\n",
      "Setembre ,  Octubre\n"
     ]
    }
   ],
   "source": [
    "trimAny = [\n",
    "    (\"T1\",[\"Gener\",\"Febrer\",\"Març\"]),\n",
    "    (\"T2\",[\"Abril\",\"Maig\",\"Juny\"]),\n",
    "    (\"T3\",[\"Juliol\",\"Agost\",\"Setembre\"]),\n",
    "    (\"T4\",[\"Octubre\",\"Novembre\",\"Desembre\"])\n",
    "]\n",
    "\n",
    "print(trimAny[0][1][1])\n",
    "print(trimAny[0][1])\n",
    "print(trimAny[2][1][2],\", \",trimAny[3][1][0])"
   ]
  },
  {
   "cell_type": "markdown",
   "id": "89c153e6",
   "metadata": {},
   "source": [
    "***"
   ]
  },
  {
   "cell_type": "markdown",
   "id": "4a086108",
   "metadata": {},
   "source": [
    "#### Exercici 2 i 3 ####"
   ]
  },
  {
   "cell_type": "code",
   "execution_count": 16,
   "id": "886f894d",
   "metadata": {},
   "outputs": [
    {
     "name": "stdout",
     "output_type": "stream",
     "text": [
      "Aquesta llista te un total de: 12 nombres\n",
      "El numero 3 apareix 3 vegades\n",
      "El numero 3 apareix 3 vegades i el numero 4 apareix 2 vegades\n",
      "El numero mes alt es: 88\n",
      "[3, 3, 3]\n",
      "El rang d'aquesta llista es: 3 - 88\n"
     ]
    }
   ],
   "source": [
    "numDesordenats = [23,3,9,54,15,4,3,88,3,4,32,8]\n",
    "\n",
    "print(\"Aquesta llista te un total de:\", len(numDesordenats), \"nombres\")\n",
    "print(\"El numero 3 apareix\", numDesordenats.count(3), \"vegades\")\n",
    "print(\"El numero 3 apareix\", numDesordenats.count(3), \"vegades\", \"i el numero 4 apareix\", numDesordenats.count(4), \"vegades\")\n",
    "print(\"El numero mes alt es:\", max(numDesordenats))\n",
    "print(sorted(numDesordenats)[:3])\n",
    "print(\"El rang d'aquesta llista es:\", min(numDesordenats), \"-\", max(numDesordenats))   "
   ]
  },
  {
   "cell_type": "markdown",
   "id": "9df656a3",
   "metadata": {},
   "source": [
    "***"
   ]
  },
  {
   "cell_type": "markdown",
   "id": "bb1cb9e8",
   "metadata": {},
   "source": [
    "#### Exercici 4 ####"
   ]
  },
  {
   "cell_type": "code",
   "execution_count": 23,
   "id": "a7bdf256",
   "metadata": {
    "scrolled": false
   },
   "outputs": [
    {
     "name": "stdout",
     "output_type": "stream",
     "text": [
      "{'Pomes': {'Qty': 5, '€': 0.42}, 'Peres': {'Qty': 3, '€': 0.66}, 'Mangos': {'Qty': 10, '€': 1.0}}\n",
      "El cost total de les peres es 1.98 €\n",
      "Hem comprat un total de 3 fruites\n",
      "La fuita mes cara val 1 €\n"
     ]
    }
   ],
   "source": [
    "compra = { \n",
    "    \"Pomes\" : {\"Qty\": 5, \"€\": 0.42}, \n",
    "    \"Peres\" : {\"Qty\": 3, \"€\": 0.66}\n",
    "}\n",
    "\n",
    "compra.update({\"Mangos\" : {\"Qty\": 10, \"€\": 1.00}})\n",
    "print(compra)\n",
    "\n",
    "numPeres = compra['Peres']['Qty']\n",
    "preuPeres = compra['Peres']['€']\n",
    "print(\"El cost total de les peres es\", numPeres*preuPeres, \"€\")\n",
    "\n",
    "print(\"Hem comprat un total de\", len(compra), \"fruites\")\n",
    "\n",
    "print(\"La fuita mes cara val\", max(int(d['€']) for d in compra.values()), \"€\")"
   ]
  },
  {
   "cell_type": "code",
   "execution_count": null,
   "id": "d5381cf9",
   "metadata": {},
   "outputs": [],
   "source": []
  }
 ],
 "metadata": {
  "kernelspec": {
   "display_name": "Python 3",
   "language": "python",
   "name": "python3"
  },
  "language_info": {
   "codemirror_mode": {
    "name": "ipython",
    "version": 3
   },
   "file_extension": ".py",
   "mimetype": "text/x-python",
   "name": "python",
   "nbconvert_exporter": "python",
   "pygments_lexer": "ipython3",
   "version": "3.8.8"
  }
 },
 "nbformat": 4,
 "nbformat_minor": 5
}
